{
 "cells": [
  {
   "cell_type": "markdown",
   "metadata": {},
   "source": [
    "## Explore Weather Trends \n",
    "#### 1. Create a `line chart` that compares your `city’s temperatures` with the `global temperatures` and `plot` the `moving average` rather than the yearly averages in order to `smooth out` the lines, making trends more observable \n",
    "#### 2. Make `observations` about the similarities and `differences` between the `world averages` and your `city’s averages`, as well as `overall trends`. \n",
    "##### a. Is your city hotter or cooler on average compared to the global average? Has the difference been consistent over time?\n",
    "##### b. “How do the changes in your city’s temperatures over time compare to the changes in the global average?”\n",
    "##### c. What does the overall trend look like? Is the world getting hotter or cooler? Has the trend been consistent over the last few hundred years?"
   ]
  },
  {
   "cell_type": "code",
   "execution_count": 2,
   "metadata": {},
   "outputs": [],
   "source": [
    "import pandas as pd\n",
    "from IPython.display import HTML\n",
    "from matplotlib import style, figure\n",
    " \n",
    "%matplotlib inline\n",
    "import matplotlib.pyplot as plt\n",
    "plt.style.use('ggplot')\n",
    "\n",
    "city_data = pd.read_csv('city_data.csv')\n",
    "global_data = pd.read_csv('global_data.csv')"
   ]
  },
  {
   "cell_type": "code",
   "execution_count": 3,
   "metadata": {},
   "outputs": [],
   "source": [
    "def farenheit(avg_temp): \n",
    "    fahrenheit = 9.0/5.0 * avg_temp + 32\n",
    "    return fahrenheit"
   ]
  },
  {
   "cell_type": "code",
   "execution_count": 4,
   "metadata": {
    "scrolled": true
   },
   "outputs": [
    {
     "data": {
      "text/plain": [
       "0      60.278\n",
       "1      59.504\n",
       "2      59.954\n",
       "3      60.098\n",
       "4      61.286\n",
       "5      60.332\n",
       "6      60.692\n",
       "7      59.936\n",
       "8      61.142\n",
       "9      60.206\n",
       "10     59.522\n",
       "11     59.738\n",
       "12     61.718\n",
       "13     60.890\n",
       "14     60.584\n",
       "15     61.916\n",
       "16     60.602\n",
       "17     61.394\n",
       "18     61.718\n",
       "19     60.962\n",
       "20     60.890\n",
       "21     60.152\n",
       "22     60.602\n",
       "23     60.188\n",
       "24     60.260\n",
       "25     59.594\n",
       "26     61.142\n",
       "27     60.260\n",
       "28     61.232\n",
       "29     59.792\n",
       "        ...  \n",
       "135    62.168\n",
       "136    60.728\n",
       "137    61.700\n",
       "138    60.962\n",
       "139    61.592\n",
       "140    61.448\n",
       "141    61.466\n",
       "142    60.800\n",
       "143    62.222\n",
       "144    61.448\n",
       "145    61.322\n",
       "146    61.952\n",
       "147    62.744\n",
       "148    62.474\n",
       "149    59.666\n",
       "150    61.016\n",
       "151    61.952\n",
       "152    61.646\n",
       "153    61.574\n",
       "154    62.492\n",
       "155    61.790\n",
       "156    61.574\n",
       "157    61.916\n",
       "158    62.060\n",
       "159    62.618\n",
       "160    62.024\n",
       "161    60.602\n",
       "162    60.566\n",
       "163    62.762\n",
       "164    64.616\n",
       "Name: avg_temp, Length: 165, dtype: float64"
      ]
     },
     "execution_count": 4,
     "metadata": {},
     "output_type": "execute_result"
    }
   ],
   "source": [
    "farenheit(city_data['avg_temp'])"
   ]
  },
  {
   "cell_type": "code",
   "execution_count": 5,
   "metadata": {
    "scrolled": true
   },
   "outputs": [
    {
     "data": {
      "text/plain": [
       "0      47.696\n",
       "1      46.364\n",
       "2      42.404\n",
       "3      47.102\n",
       "4      47.246\n",
       "5      47.048\n",
       "6      47.930\n",
       "7      48.236\n",
       "8      44.132\n",
       "9      46.382\n",
       "10     44.942\n",
       "11     47.786\n",
       "12     47.498\n",
       "13     45.500\n",
       "14     47.120\n",
       "15     46.850\n",
       "16     47.138\n",
       "17     46.796\n",
       "18     44.204\n",
       "19     45.842\n",
       "20     45.842\n",
       "21     46.130\n",
       "22     46.742\n",
       "23     46.796\n",
       "24     47.786\n",
       "25     48.524\n",
       "26     46.940\n",
       "27     46.868\n",
       "28     47.372\n",
       "29     48.164\n",
       "        ...  \n",
       "236    47.894\n",
       "237    48.182\n",
       "238    48.560\n",
       "239    48.056\n",
       "240    48.614\n",
       "241    48.524\n",
       "242    47.912\n",
       "243    47.966\n",
       "244    48.272\n",
       "245    48.830\n",
       "246    48.272\n",
       "247    48.560\n",
       "248    49.136\n",
       "249    48.722\n",
       "250    48.560\n",
       "251    48.938\n",
       "252    49.226\n",
       "253    49.154\n",
       "254    48.776\n",
       "255    49.460\n",
       "256    49.154\n",
       "257    49.514\n",
       "258    48.974\n",
       "259    49.118\n",
       "260    49.460\n",
       "261    49.136\n",
       "262    49.118\n",
       "263    49.298\n",
       "264    49.226\n",
       "265    49.694\n",
       "Name: avg_temp, Length: 266, dtype: float64"
      ]
     },
     "execution_count": 5,
     "metadata": {},
     "output_type": "execute_result"
    }
   ],
   "source": [
    "farenheit(global_data['avg_temp'])"
   ]
  },
  {
   "cell_type": "code",
   "execution_count": 6,
   "metadata": {},
   "outputs": [
    {
     "data": {
      "text/plain": [
       "(165, 3)"
      ]
     },
     "execution_count": 6,
     "metadata": {},
     "output_type": "execute_result"
    }
   ],
   "source": [
    "global_data[\"farenheit\"] = farenheit(global_data['avg_temp'])\n",
    "global_data['farenheit'] = round(global_data['farenheit'])\n",
    "global_data.drop(global_data.head(99).index,inplace=True) # drop last n rows\n",
    "global_data.drop(global_data.tail(2).index,inplace=True) # drop last n rows\n",
    "global_data.shape"
   ]
  },
  {
   "cell_type": "code",
   "execution_count": 7,
   "metadata": {},
   "outputs": [
    {
     "data": {
      "text/plain": [
       "(165, 3)"
      ]
     },
     "execution_count": 7,
     "metadata": {},
     "output_type": "execute_result"
    }
   ],
   "source": [
    "city_data[\"farenheit\"] = farenheit(city_data['avg_temp'])\n",
    "city_data['farenheit'] = round(city_data['farenheit'])\n",
    "city_data.shape"
   ]
  },
  {
   "cell_type": "code",
   "execution_count": 8,
   "metadata": {},
   "outputs": [
    {
     "name": "stdout",
     "output_type": "stream",
     "text": [
      "city:  160    2009\n",
      "161    2010\n",
      "162    2011\n",
      "163    2012\n",
      "164    2013\n",
      "Name: year, dtype: int64 global:  259    2009\n",
      "260    2010\n",
      "261    2011\n",
      "262    2012\n",
      "263    2013\n",
      "Name: year, dtype: int64\n"
     ]
    }
   ],
   "source": [
    "city_year = city_data['year']\n",
    "global_year = global_data['year']\n",
    "\n",
    "print('city: ', city_year.tail(), 'global: ', global_year.tail())"
   ]
  },
  {
   "cell_type": "code",
   "execution_count": 9,
   "metadata": {},
   "outputs": [
    {
     "name": "stdout",
     "output_type": "stream",
     "text": [
      "city:  160    2009\n",
      "161    2010\n",
      "162    2011\n",
      "163    2012\n",
      "164    2013\n",
      "Name: year, dtype: int64 global:  259    2009\n",
      "260    2010\n",
      "261    2011\n",
      "262    2012\n",
      "263    2013\n",
      "Name: year, dtype: int64\n"
     ]
    }
   ],
   "source": [
    "city_year = city_data['year']\n",
    "city_avg_temp = city_data['farenheit']\n",
    "global_year = global_data['year']\n",
    "global_avg_temp = city_data['farenheit']\n",
    "print('city: ', city_year.tail(), 'global: ', global_year.tail())"
   ]
  },
  {
   "cell_type": "code",
   "execution_count": 10,
   "metadata": {},
   "outputs": [
    {
     "data": {
      "text/plain": [
       "(0      60.0\n",
       " 1      60.0\n",
       " 2      60.0\n",
       " 3      60.0\n",
       " 4      61.0\n",
       " 5      60.0\n",
       " 6      61.0\n",
       " 7      60.0\n",
       " 8      61.0\n",
       " 9      60.0\n",
       " 10     60.0\n",
       " 11     60.0\n",
       " 12     62.0\n",
       " 13     61.0\n",
       " 14     61.0\n",
       " 15     62.0\n",
       " 16     61.0\n",
       " 17     61.0\n",
       " 18     62.0\n",
       " 19     61.0\n",
       " 20     61.0\n",
       " 21     60.0\n",
       " 22     61.0\n",
       " 23     60.0\n",
       " 24     60.0\n",
       " 25     60.0\n",
       " 26     61.0\n",
       " 27     60.0\n",
       " 28     61.0\n",
       " 29     60.0\n",
       "        ... \n",
       " 135    62.0\n",
       " 136    61.0\n",
       " 137    62.0\n",
       " 138    61.0\n",
       " 139    62.0\n",
       " 140    61.0\n",
       " 141    61.0\n",
       " 142    61.0\n",
       " 143    62.0\n",
       " 144    61.0\n",
       " 145    61.0\n",
       " 146    62.0\n",
       " 147    63.0\n",
       " 148    62.0\n",
       " 149    60.0\n",
       " 150    61.0\n",
       " 151    62.0\n",
       " 152    62.0\n",
       " 153    62.0\n",
       " 154    62.0\n",
       " 155    62.0\n",
       " 156    62.0\n",
       " 157    62.0\n",
       " 158    62.0\n",
       " 159    63.0\n",
       " 160    62.0\n",
       " 161    61.0\n",
       " 162    61.0\n",
       " 163    63.0\n",
       " 164    65.0\n",
       " Name: farenheit, Length: 165, dtype: float64, 0      60.0\n",
       " 1      60.0\n",
       " 2      60.0\n",
       " 3      60.0\n",
       " 4      61.0\n",
       " 5      60.0\n",
       " 6      61.0\n",
       " 7      60.0\n",
       " 8      61.0\n",
       " 9      60.0\n",
       " 10     60.0\n",
       " 11     60.0\n",
       " 12     62.0\n",
       " 13     61.0\n",
       " 14     61.0\n",
       " 15     62.0\n",
       " 16     61.0\n",
       " 17     61.0\n",
       " 18     62.0\n",
       " 19     61.0\n",
       " 20     61.0\n",
       " 21     60.0\n",
       " 22     61.0\n",
       " 23     60.0\n",
       " 24     60.0\n",
       " 25     60.0\n",
       " 26     61.0\n",
       " 27     60.0\n",
       " 28     61.0\n",
       " 29     60.0\n",
       "        ... \n",
       " 135    62.0\n",
       " 136    61.0\n",
       " 137    62.0\n",
       " 138    61.0\n",
       " 139    62.0\n",
       " 140    61.0\n",
       " 141    61.0\n",
       " 142    61.0\n",
       " 143    62.0\n",
       " 144    61.0\n",
       " 145    61.0\n",
       " 146    62.0\n",
       " 147    63.0\n",
       " 148    62.0\n",
       " 149    60.0\n",
       " 150    61.0\n",
       " 151    62.0\n",
       " 152    62.0\n",
       " 153    62.0\n",
       " 154    62.0\n",
       " 155    62.0\n",
       " 156    62.0\n",
       " 157    62.0\n",
       " 158    62.0\n",
       " 159    63.0\n",
       " 160    62.0\n",
       " 161    61.0\n",
       " 162    61.0\n",
       " 163    63.0\n",
       " 164    65.0\n",
       " Name: farenheit, Length: 165, dtype: float64)"
      ]
     },
     "execution_count": 10,
     "metadata": {},
     "output_type": "execute_result"
    }
   ],
   "source": [
    "city_avg_temp, global_avg_temp"
   ]
  },
  {
   "cell_type": "code",
   "execution_count": 11,
   "metadata": {},
   "outputs": [
    {
     "name": "stdout",
     "output_type": "stream",
     "text": [
      "['seaborn-dark', 'seaborn-darkgrid', 'seaborn-ticks', 'fivethirtyeight', 'seaborn-whitegrid', 'classic', '_classic_test', 'fast', 'seaborn-talk', 'seaborn-dark-palette', 'seaborn-bright', 'seaborn-pastel', 'grayscale', 'seaborn-notebook', 'ggplot', 'seaborn-colorblind', 'seaborn-muted', 'seaborn', 'Solarize_Light2', 'seaborn-paper', 'bmh', 'tableau-colorblind10', 'seaborn-white', 'dark_background', 'seaborn-poster', 'seaborn-deep']\n"
     ]
    },
    {
     "data": {
      "image/png": "[encoded data removed]",
      "text/plain": [
       "<Figure size 432x288 with 1 Axes>"
      ]
     },
     "metadata": {
      "needs_background": "light"
     },
     "output_type": "display_data"
    }
   ],
   "source": [
    "plt.plot(city_year, city_avg_temp.rolling(window=30).mean(), 'r-', label='City: 30 day MA')\n",
    "plt.plot(global_year, global_avg_temp.rolling(window=30).mean(), 'g-', label='Global: 30 day MA')\n",
    "plt.legend(loc='best')\n",
    "\n",
    "plt.xlabel('Years')\n",
    "plt.ylabel('Average Temperature F°')\n",
    "plt.title('Exploring Global & Los Angeles, CA Weather Trends')\n",
    "\n",
    "style.use('ggplot')\n",
    "print(plt.style.available)\n",
    "plt.show()\n",
    "\n",
    "#cite: https://towardsdatascience.com/implementing-moving-averages-in-python-1ad28e636f9d"
   ]
  },
  {
   "cell_type": "code",
   "execution_count": null,
   "metadata": {},
   "outputs": [],
   "source": []
  },
  {
   "cell_type": "code",
   "execution_count": null,
   "metadata": {},
   "outputs": [],
   "source": []
  },
  {
   "cell_type": "code",
   "execution_count": 66,
   "metadata": {},
   "outputs": [],
   "source": [
    "# frames = [city_year, city_avg_temp, global_year, global_avg_temp]\n",
    "# result = pd.concat(frames, axis=0, join='outer', join_axes=None, ignore_index=False,\n",
    "#           keys=None, levels=None, names=None, verify_integrity=False,\n",
    "#           copy=True)\n",
    "# result"
   ]
  },
  {
   "cell_type": "code",
   "execution_count": null,
   "metadata": {},
   "outputs": [],
   "source": []
  },
  {
   "cell_type": "code",
   "execution_count": null,
   "metadata": {},
   "outputs": [],
   "source": []
  },
  {
   "cell_type": "code",
   "execution_count": null,
   "metadata": {},
   "outputs": [],
   "source": []
  }
 ],
 "metadata": {
  "kernelspec": {
   "display_name": "Python 3",
   "language": "python",
   "name": "python3"
  },
  "language_info": {
   "codemirror_mode": {
    "name": "ipython",
    "version": 3
   },
   "file_extension": ".py",
   "mimetype": "text/x-python",
   "name": "python",
   "nbconvert_exporter": "python",
   "pygments_lexer": "ipython3",
   "version": "3.7.1"
  }
 },
 "nbformat": 4,
 "nbformat_minor": 2
}
