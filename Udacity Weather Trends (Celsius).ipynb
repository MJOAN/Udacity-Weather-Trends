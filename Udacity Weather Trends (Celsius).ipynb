{
 "cells": [
  {
   "cell_type": "markdown",
   "metadata": {},
   "source": [
    "### Explore Weather Trends (Los Angeles, CA & Global):\n",
    "1. Create a `line chart` that compares your `city’s temperatures` with the `global temperatures` and `plot` the `moving average` rather than the yearly averages in order to `smooth out` the lines, making trends more observable \n",
    "2. Make `observations` about the similarities and `differences` between the `world averages` and your `city’s averages`, as well as `overall trends`. \n",
    "\n",
    "_a: \"Is your city hotter or cooler on average compared to the global average? Has the difference been consistent over time?\"_  Los Angeles temperatures were hotter on average compared to global average and this has been consistent over the entire dataset.\n",
    "<br>\n",
    "<br>\n",
    "_b. “How do the changes in your city’s temperatures over time compare to the changes in the global average?”_ The `mean()` of both Pandas Series for local and global temperatures was `8` so the difference in Celsius temperature averaged about an `8` degree difference between them. While the variance taken on the average temperatures within each dataset varied `32%` for local data and `34%` for global data. So changes within each dataset was very similar and mean shows almost a 10 degree difference between average temperatures.\n",
    "<br>\n",
    "<br>\n",
    "_c. \"What does the overall trend look like? Is the world getting hotter or cooler? Has the trend been consistent over the last few hundred years?\"_ Looking at the results from deriving a slope of both datasets, city trend was `0.005113830043010149` while global trend was `0.004733619080561259` which shows Los Angeles, CA is trending a bit higher than global temperatures. This has been consistent over the few hundred years from viewing the steadily increasing line in the line chart. "
   ]
  },
  {
   "cell_type": "code",
   "execution_count": 77,
   "metadata": {},
   "outputs": [],
   "source": [
    "import pandas as pd\n",
    "import numpy as np\n",
    "\n",
    "import matplotlib\n",
    "from matplotlib import style, figure\n",
    "from IPython.display import HTML\n",
    " \n",
    "city_data = pd.read_csv('city_data.csv')\n",
    "global_data = pd.read_csv('global_data.csv')"
   ]
  },
  {
   "cell_type": "code",
   "execution_count": 78,
   "metadata": {},
   "outputs": [
    {
     "data": {
      "text/plain": [
       "(165, 2)"
      ]
     },
     "execution_count": 78,
     "metadata": {},
     "output_type": "execute_result"
    }
   ],
   "source": [
    "global_data.drop(global_data.head(99).index,inplace=True) # drop last n rows\n",
    "global_data.drop(global_data.tail(2).index,inplace=True) # drop last n rows\n",
    "global_data.shape"
   ]
  },
  {
   "cell_type": "code",
   "execution_count": 79,
   "metadata": {},
   "outputs": [
    {
     "data": {
      "text/plain": [
       "(165, 2)"
      ]
     },
     "execution_count": 79,
     "metadata": {},
     "output_type": "execute_result"
    }
   ],
   "source": [
    "city_data.shape"
   ]
  },
  {
   "cell_type": "code",
   "execution_count": 80,
   "metadata": {},
   "outputs": [
    {
     "name": "stdout",
     "output_type": "stream",
     "text": [
      "city trend:  0.005113830043010149 global trend:  0.008314695589453166\n"
     ]
    }
   ],
   "source": [
    "def slope(data, order=1): # cite \n",
    "    coeffs = np.polyfit(data.index.values, list(data), order)\n",
    "    slope = coeffs[-2]\n",
    "    return float(slope)\n",
    "\n",
    "slope_city = slope(city_data['avg_temp'])\n",
    "slope_global = slope(global_data['avg_temp'])\n",
    "\n",
    "print('city trend: ', slope_city, 'global trend: ', slope_global)\n",
    "\n",
    "# cite: https://stackoverflow.com/questions/42920537/finding-increasing-trend-in-pandas"
   ]
  },
  {
   "cell_type": "code",
   "execution_count": 81,
   "metadata": {},
   "outputs": [
    {
     "data": {
      "text/plain": [
       "year        2282.500000\n",
       "avg_temp       0.323481\n",
       "dtype: float64"
      ]
     },
     "execution_count": 81,
     "metadata": {},
     "output_type": "execute_result"
    }
   ],
   "source": [
    "city_data.var()"
   ]
  },
  {
   "cell_type": "code",
   "execution_count": 82,
   "metadata": {},
   "outputs": [
    {
     "data": {
      "text/plain": [
       "year        2282.500000\n",
       "avg_temp       0.211752\n",
       "dtype: float64"
      ]
     },
     "execution_count": 82,
     "metadata": {},
     "output_type": "execute_result"
    }
   ],
   "source": [
    "global_data.var()"
   ]
  },
  {
   "cell_type": "code",
   "execution_count": 83,
   "metadata": {},
   "outputs": [
    {
     "name": "stdout",
     "output_type": "stream",
     "text": [
      "city:  160    2009\n",
      "161    2010\n",
      "162    2011\n",
      "163    2012\n",
      "164    2013\n",
      "Name: year, dtype: int64 global:  259    2009\n",
      "260    2010\n",
      "261    2011\n",
      "262    2012\n",
      "263    2013\n",
      "Name: year, dtype: int64\n"
     ]
    }
   ],
   "source": [
    "city_year = city_data['year']\n",
    "global_year = global_data['year']\n",
    "city_temp = city_data['avg_temp']\n",
    "global_temp = global_data['avg_temp']\n",
    "\n",
    "print('city: ', city_year.tail(), 'global: ', global_year.tail())"
   ]
  },
  {
   "cell_type": "code",
   "execution_count": 84,
   "metadata": {
    "scrolled": true
   },
   "outputs": [
    {
     "name": "stdout",
     "output_type": "stream",
     "text": [
      "the mean taken for both city and global datasets was:  8\n"
     ]
    }
   ],
   "source": [
    "a = global_data['avg_temp']\n",
    "b = city_data['avg_temp']\n",
    "diff = b.sub(a)\n",
    "print(\"the mean taken for both city and global datasets was: \", round(diff.mean(skipna = True)))"
   ]
  },
  {
   "cell_type": "code",
   "execution_count": 85,
   "metadata": {},
   "outputs": [
    {
     "name": "stdout",
     "output_type": "stream",
     "text": [
      "city:  160    16.68\n",
      "161    15.89\n",
      "162    15.87\n",
      "163    17.09\n",
      "164    18.12\n",
      "Name: avg_temp, dtype: float64 global:  259    9.51\n",
      "260    9.70\n",
      "261    9.52\n",
      "262    9.51\n",
      "263    9.61\n",
      "Name: avg_temp, dtype: float64\n"
     ]
    }
   ],
   "source": [
    "print('city: ', city_temp.tail(), 'global: ', global_temp.tail())"
   ]
  },
  {
   "cell_type": "code",
   "execution_count": 86,
   "metadata": {},
   "outputs": [
    {
     "data": {
      "text/plain": [
       "(0      15.71\n",
       " 1      15.28\n",
       " 2      15.53\n",
       " 3      15.61\n",
       " 4      16.27\n",
       " 5      15.74\n",
       " 6      15.94\n",
       " 7      15.52\n",
       " 8      16.19\n",
       " 9      15.67\n",
       " 10     15.29\n",
       " 11     15.41\n",
       " 12     16.51\n",
       " 13     16.05\n",
       " 14     15.88\n",
       " 15     16.62\n",
       " 16     15.89\n",
       " 17     16.33\n",
       " 18     16.51\n",
       " 19     16.09\n",
       " 20     16.05\n",
       " 21     15.64\n",
       " 22     15.89\n",
       " 23     15.66\n",
       " 24     15.70\n",
       " 25     15.33\n",
       " 26     16.19\n",
       " 27     15.70\n",
       " 28     16.24\n",
       " 29     15.44\n",
       "        ...  \n",
       " 135    16.76\n",
       " 136    15.96\n",
       " 137    16.50\n",
       " 138    16.09\n",
       " 139    16.44\n",
       " 140    16.36\n",
       " 141    16.37\n",
       " 142    16.00\n",
       " 143    16.79\n",
       " 144    16.36\n",
       " 145    16.29\n",
       " 146    16.64\n",
       " 147    17.08\n",
       " 148    16.93\n",
       " 149    15.37\n",
       " 150    16.12\n",
       " 151    16.64\n",
       " 152    16.47\n",
       " 153    16.43\n",
       " 154    16.94\n",
       " 155    16.55\n",
       " 156    16.43\n",
       " 157    16.62\n",
       " 158    16.70\n",
       " 159    17.01\n",
       " 160    16.68\n",
       " 161    15.89\n",
       " 162    15.87\n",
       " 163    17.09\n",
       " 164    18.12\n",
       " Name: avg_temp, Length: 165, dtype: float64, 99     7.98\n",
       " 100    7.90\n",
       " 101    8.18\n",
       " 102    8.10\n",
       " 103    8.04\n",
       " 104    8.21\n",
       " 105    8.11\n",
       " 106    8.00\n",
       " 107    7.76\n",
       " 108    8.10\n",
       " 109    8.25\n",
       " 110    7.96\n",
       " 111    7.85\n",
       " 112    7.56\n",
       " 113    8.11\n",
       " 114    7.98\n",
       " 115    8.18\n",
       " 116    8.29\n",
       " 117    8.44\n",
       " 118    8.25\n",
       " 119    8.43\n",
       " 120    8.20\n",
       " 121    8.12\n",
       " 122    8.19\n",
       " 123    8.35\n",
       " 124    8.43\n",
       " 125    7.86\n",
       " 126    8.08\n",
       " 127    8.54\n",
       " 128    8.83\n",
       "        ... \n",
       " 234    8.69\n",
       " 235    8.66\n",
       " 236    8.83\n",
       " 237    8.99\n",
       " 238    9.20\n",
       " 239    8.92\n",
       " 240    9.23\n",
       " 241    9.18\n",
       " 242    8.84\n",
       " 243    8.87\n",
       " 244    9.04\n",
       " 245    9.35\n",
       " 246    9.04\n",
       " 247    9.20\n",
       " 248    9.52\n",
       " 249    9.29\n",
       " 250    9.20\n",
       " 251    9.41\n",
       " 252    9.57\n",
       " 253    9.53\n",
       " 254    9.32\n",
       " 255    9.70\n",
       " 256    9.53\n",
       " 257    9.73\n",
       " 258    9.43\n",
       " 259    9.51\n",
       " 260    9.70\n",
       " 261    9.52\n",
       " 262    9.51\n",
       " 263    9.61\n",
       " Name: avg_temp, Length: 165, dtype: float64)"
      ]
     },
     "execution_count": 86,
     "metadata": {},
     "output_type": "execute_result"
    }
   ],
   "source": [
    "city_temp, global_temp"
   ]
  },
  {
   "cell_type": "code",
   "execution_count": 91,
   "metadata": {},
   "outputs": [
    {
     "data": {
      "text/plain": [
       "<Figure size 1080x720 with 0 Axes>"
      ]
     },
     "execution_count": 91,
     "metadata": {},
     "output_type": "execute_result"
    },
    {
     "data": {
      "text/plain": [
       "[<matplotlib.lines.Line2D at 0x12bf0b470>]"
      ]
     },
     "execution_count": 91,
     "metadata": {},
     "output_type": "execute_result"
    },
    {
     "data": {
      "text/plain": [
       "[<matplotlib.lines.Line2D at 0x12bec68d0>]"
      ]
     },
     "execution_count": 91,
     "metadata": {},
     "output_type": "execute_result"
    },
    {
     "data": {
      "text/plain": [
       "<matplotlib.legend.Legend at 0x1227de198>"
      ]
     },
     "execution_count": 91,
     "metadata": {},
     "output_type": "execute_result"
    },
    {
     "data": {
      "text/plain": [
       "Text(0.5, 0, 'year')"
      ]
     },
     "execution_count": 91,
     "metadata": {},
     "output_type": "execute_result"
    },
    {
     "data": {
      "text/plain": [
       "Text(0, 0.5, 'average temperature C°')"
      ]
     },
     "execution_count": 91,
     "metadata": {},
     "output_type": "execute_result"
    },
    {
     "data": {
      "text/plain": [
       "Text(0.5, 1.0, 'exploring global & local (los angeles, ca) weather trends')"
      ]
     },
     "execution_count": 91,
     "metadata": {},
     "output_type": "execute_result"
    },
    {
     "data": {
      "image/png": "[encoded data removed]",
      "text/plain": [
       "<Figure size 1080x720 with 1 Axes>"
      ]
     },
     "metadata": {
      "needs_background": "light"
     },
     "output_type": "display_data"
    }
   ],
   "source": [
    "%matplotlib inline\n",
    "import matplotlib.pyplot as plt\n",
    "plt.rcParams.update({'font.size': 17})\n",
    "\n",
    "plt.figure(figsize=(15,10))\n",
    "\n",
    "plt.plot(city_year, city_temp.rolling(window=30).mean(), 'r-', label='city: 30 MA')\n",
    "plt.plot(global_year, global_temp.rolling(window=30).mean(), 'g-', label='global: 30 MA')\n",
    "plt.legend(loc='best')\n",
    "\n",
    "plt.xlabel('year')\n",
    "plt.ylabel('average temperature C°')\n",
    "plt.title('exploring global & local (los angeles, ca) weather trends')\n",
    "\n",
    "style.use('seaborn-poster')\n",
    "plt.show()"
   ]
  },
  {
   "cell_type": "code",
   "execution_count": 88,
   "metadata": {},
   "outputs": [],
   "source": [
    "#cite: https://towardsdatascience.com/implementing-moving-averages-in-python-1ad28e636f9d"
   ]
  },
  {
   "cell_type": "code",
   "execution_count": null,
   "metadata": {},
   "outputs": [],
   "source": []
  },
  {
   "cell_type": "code",
   "execution_count": 66,
   "metadata": {},
   "outputs": [],
   "source": []
  },
  {
   "cell_type": "code",
   "execution_count": null,
   "metadata": {},
   "outputs": [],
   "source": []
  },
  {
   "cell_type": "code",
   "execution_count": null,
   "metadata": {},
   "outputs": [],
   "source": []
  },
  {
   "cell_type": "code",
   "execution_count": null,
   "metadata": {},
   "outputs": [],
   "source": []
  }
 ],
 "metadata": {
  "kernelspec": {
   "display_name": "Python 3",
   "language": "python",
   "name": "python3"
  },
  "language_info": {
   "codemirror_mode": {
    "name": "ipython",
    "version": 3
   },
   "file_extension": ".py",
   "mimetype": "text/x-python",
   "name": "python",
   "nbconvert_exporter": "python",
   "pygments_lexer": "ipython3",
   "version": "3.7.1"
  }
 },
 "nbformat": 4,
 "nbformat_minor": 2
}
